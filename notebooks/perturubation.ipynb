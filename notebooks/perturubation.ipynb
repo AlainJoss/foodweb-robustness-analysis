{
 "cells": [
  {
   "cell_type": "code",
   "execution_count": 1,
   "metadata": {},
   "outputs": [],
   "source": [
    "import sys\n",
    "sys.path.append('..')"
   ]
  },
  {
   "cell_type": "code",
   "execution_count": 2,
   "metadata": {},
   "outputs": [],
   "source": [
    "from robustness_analysis.Graph import Graph\n",
    "from robustness_analysis.Metaweb import Metaweb, DataProcessor\n",
    "import robustness_analysis.Constants as Constants\n",
    "from robustness_analysis.AttackStrategy import ThreatenedHabitats\n",
    "from robustness_analysis.Metaweb import Preparation\n",
    "from robustness_analysis.Perturbation import Perturbation\n",
    "import matplotlib.pyplot as plt\n",
    "import pandas as pd"
   ]
  },
  {
   "cell_type": "code",
   "execution_count": 4,
   "metadata": {},
   "outputs": [],
   "source": [
    "data_processor = DataProcessor(Constants.ALL_SPECIES_AND_FOOD_GROUPS, Constants.SPECIES_FOR_RANDOMIZED_LINKS)\n",
    "metaweb = Metaweb(Constants.FOODWEB_02, usecols=[Constants.SOURCE_COL, Constants.TARGET_COL])"
   ]
  },
  {
   "cell_type": "code",
   "execution_count": 5,
   "metadata": {},
   "outputs": [],
   "source": [
    "metaweb.prepare(Preparation.PREPARE, data_processor)\n",
    "edge_df = metaweb.get_edges()"
   ]
  },
  {
   "cell_type": "code",
   "execution_count": 6,
   "metadata": {},
   "outputs": [],
   "source": [
    "graph = Graph(edge_df, source=Constants.SOURCE_COL, target=Constants.TARGET_COL)"
   ]
  },
  {
   "cell_type": "code",
   "execution_count": null,
   "metadata": {},
   "outputs": [],
   "source": [
    "threatened_habitats = [\"Grassland\", \"Forest\"]\n",
    "attack_strategy = ThreatenedHabitats(threatened_habitats)\n",
    "attack_strategy.create_buckets(graph)\n",
    "\n",
    "# copy graphs for perturbations"
   ]
  },
  {
   "cell_type": "code",
   "execution_count": null,
   "metadata": {},
   "outputs": [],
   "source": [
    "perturbation = Perturbation(graph)\n",
    "perturbation.run()"
   ]
  },
  {
   "cell_type": "code",
   "execution_count": null,
   "metadata": {},
   "outputs": [],
   "source": [
    "# Here things get sketchy!!"
   ]
  },
  {
   "cell_type": "code",
   "execution_count": 8,
   "metadata": {},
   "outputs": [],
   "source": [
    "species_df = pd.read_csv(Constants.ALL_SPECIES_AND_FOOD_GROUPS, usecols=['Species', 'Habitat'])"
   ]
  },
  {
   "cell_type": "code",
   "execution_count": 9,
   "metadata": {},
   "outputs": [],
   "source": [
    "# processing data frames (they should actually already be preprocessed, before being read by the program!)\n",
    "\n",
    "edge_df['Source_Name'] = edge_df['Source_Name'].str.lower()\n",
    "edge_df['Target_Name'] = edge_df['Target_Name'].str.lower()\n",
    "species_df['Species'] = species_df['Species'].str.lower()\n",
    "species_df['Habitat'] = species_df['Habitat'].str.lower()\n",
    "\n",
    "species_df = species_df[species_df['Species'].notna()]\n",
    "\n",
    "edge_df = edge_df.sort_values(by=\"Source_Name\")\n",
    "species_df = species_df.sort_values(by=\"Species\")"
   ]
  },
  {
   "cell_type": "code",
   "execution_count": 10,
   "metadata": {},
   "outputs": [
    {
     "data": {
      "text/html": [
       "<div>\n",
       "<style scoped>\n",
       "    .dataframe tbody tr th:only-of-type {\n",
       "        vertical-align: middle;\n",
       "    }\n",
       "\n",
       "    .dataframe tbody tr th {\n",
       "        vertical-align: top;\n",
       "    }\n",
       "\n",
       "    .dataframe thead th {\n",
       "        text-align: right;\n",
       "    }\n",
       "</style>\n",
       "<table border=\"1\" class=\"dataframe\">\n",
       "  <thead>\n",
       "    <tr style=\"text-align: right;\">\n",
       "      <th></th>\n",
       "      <th>Species</th>\n",
       "      <th>Habitat</th>\n",
       "    </tr>\n",
       "  </thead>\n",
       "  <tbody>\n",
       "    <tr>\n",
       "      <th>23071</th>\n",
       "      <td>aalge</td>\n",
       "      <td>water</td>\n",
       "    </tr>\n",
       "    <tr>\n",
       "      <th>6470</th>\n",
       "      <td>abblanda</td>\n",
       "      <td>wetland</td>\n",
       "    </tr>\n",
       "    <tr>\n",
       "      <th>8712</th>\n",
       "      <td>abbreviana</td>\n",
       "      <td>wetland</td>\n",
       "    </tr>\n",
       "    <tr>\n",
       "      <th>9352</th>\n",
       "      <td>abbreviata</td>\n",
       "      <td>forest</td>\n",
       "    </tr>\n",
       "    <tr>\n",
       "      <th>18555</th>\n",
       "      <td>abbreviata</td>\n",
       "      <td>forest; shrubland; urban; wetland</td>\n",
       "    </tr>\n",
       "  </tbody>\n",
       "</table>\n",
       "</div>"
      ],
      "text/plain": [
       "          Species                            Habitat\n",
       "23071       aalge                              water\n",
       "6470     abblanda                            wetland\n",
       "8712   abbreviana                            wetland\n",
       "9352   abbreviata                             forest\n",
       "18555  abbreviata  forest; shrubland; urban; wetland"
      ]
     },
     "execution_count": 10,
     "metadata": {},
     "output_type": "execute_result"
    }
   ],
   "source": [
    "species_df.head()"
   ]
  },
  {
   "cell_type": "code",
   "execution_count": 12,
   "metadata": {},
   "outputs": [],
   "source": [
    "import networkx as nx\n",
    "G = nx.from_pandas_edgelist(edge_df, source=Constants.SOURCE_COL, target=Constants.TARGET_COL, create_using=nx.DiGraph())"
   ]
  },
  {
   "cell_type": "code",
   "execution_count": 13,
   "metadata": {},
   "outputs": [
    {
     "name": "stdout",
     "output_type": "stream",
     "text": [
      "21273\n",
      "23749\n"
     ]
    }
   ],
   "source": [
    "print(len(G.nodes))\n",
    "print(len(species_df))"
   ]
  },
  {
   "cell_type": "code",
   "execution_count": 14,
   "metadata": {},
   "outputs": [
    {
     "ename": "TypeError",
     "evalue": "'<' not supported between instances of 'float' and 'str'",
     "output_type": "error",
     "traceback": [
      "\u001b[0;31m---------------------------------------------------------------------------\u001b[0m",
      "\u001b[0;31mTypeError\u001b[0m                                 Traceback (most recent call last)",
      "Cell \u001b[0;32mIn[14], line 1\u001b[0m\n\u001b[0;32m----> 1\u001b[0m \u001b[39msorted\u001b[39;49m(G\u001b[39m.\u001b[39;49mnodes)\n",
      "\u001b[0;31mTypeError\u001b[0m: '<' not supported between instances of 'float' and 'str'"
     ]
    }
   ],
   "source": [
    "sorted(G.nodes)"
   ]
  },
  {
   "cell_type": "code",
   "execution_count": 15,
   "metadata": {},
   "outputs": [
    {
     "data": {
      "text/plain": [
       "23071            aalge\n",
       "6470          abblanda\n",
       "8712        abbreviana\n",
       "9352        abbreviata\n",
       "18555       abbreviata\n",
       "             ...      \n",
       "2644       ×versicolor\n",
       "13915    ×verticillata\n",
       "13916         ×villosa\n",
       "6545         ×watereri\n",
       "7670         ×zeilleri\n",
       "Name: Species, Length: 23749, dtype: object"
      ]
     },
     "execution_count": 15,
     "metadata": {},
     "output_type": "execute_result"
    }
   ],
   "source": [
    "species_df['Species']"
   ]
  },
  {
   "cell_type": "code",
   "execution_count": null,
   "metadata": {},
   "outputs": [],
   "source": [
    "count = 0\n",
    "for specie in species_df['Species']:\n",
    "    if specie in G.nodes:\n",
    "        print(specie)\n",
    "        count += 1\n",
    "\n",
    "print(count)"
   ]
  },
  {
   "cell_type": "code",
   "execution_count": null,
   "metadata": {},
   "outputs": [],
   "source": [
    "# Theoretical code for merging information\n",
    "\n",
    "for specie in species_df['Species']:\n",
    "    if specie in G.nodes.copy():\n",
    "        G.nodes[specie]['Habitat'] = specie['Habitat']\n",
    "    else:\n",
    "        G.nodes[specie].remove()"
   ]
  },
  {
   "cell_type": "markdown",
   "metadata": {},
   "source": [
    "strategy = Random()\n",
    "perturbation = Perturbation(graph, strategy)\n",
    "perturbation.run()\n",
    "\n",
    "results = perturbation.get_results()"
   ]
  },
  {
   "cell_type": "markdown",
   "metadata": {},
   "source": [
    "for key, value in enumerate(results):\n",
    "    print(key, results)"
   ]
  },
  {
   "cell_type": "markdown",
   "metadata": {},
   "source": [
    "import matplotlib.pyplot as plt\n",
    "import numpy as np\n",
    "\n",
    "metric_names = list(results.keys())\n",
    "colors = plt.cm.viridis(np.linspace(0, 1, len(metric_names)))\n",
    "\n",
    "print(colors)\n",
    "\n",
    "num_rows = len(metric_names)\n",
    "\n",
    "fig = plt.figure(figsize=(12, 9 * num_rows), dpi=300) \n",
    "\n",
    "for i, metric_name in enumerate(metric_names):\n",
    "    ax = fig.add_subplot(num_rows, 1, i+1)  \n",
    "    ax.plot(results[metric_name], color=colors[i], linestyle='-', linewidth=2)\n",
    "    \n",
    "    ax.set_ylabel(metric_name.replace(\"_\", \" \").title(), fontsize=14)\n",
    "    ax.set_title(f'{metric_name.replace(\"_\", \" \").title()} Robustness Trend', fontsize=16)\n",
    "    \n",
    "    ax.grid(True, which='both', linestyle='--', linewidth=0.5)\n",
    "    ax.spines['top'].set_visible(False)\n",
    "    ax.spines['right'].set_visible(False)\n",
    "    ax.spines['bottom'].set_linewidth(0.5)\n",
    "    ax.spines['left'].set_linewidth(0.5)\n",
    "\n",
    "fig.suptitle('Attack Strategy: Random', fontsize=18, y=1.05)\n",
    "plt.tight_layout()\n",
    "\n",
    "plt.show()"
   ]
  }
 ],
 "metadata": {
  "kernelspec": {
   "display_name": "foodweb_analysis-iRB1cZAi",
   "language": "python",
   "name": "python3"
  },
  "language_info": {
   "codemirror_mode": {
    "name": "ipython",
    "version": 3
   },
   "file_extension": ".py",
   "mimetype": "text/x-python",
   "name": "python",
   "nbconvert_exporter": "python",
   "pygments_lexer": "ipython3",
   "version": "3.9.13"
  },
  "orig_nbformat": 4
 },
 "nbformat": 4,
 "nbformat_minor": 2
}
