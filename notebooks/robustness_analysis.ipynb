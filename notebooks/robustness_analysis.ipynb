{
 "cells": [
  {
   "attachments": {},
   "cell_type": "markdown",
   "metadata": {},
   "source": [
    "# Robustness Analysis\n",
    "\n",
    "Ideas:\n",
    "- sort nodes by different metrics and remove them in order.\n",
    "- groups nodes in different categories, sort the categories, and remove the nodes accordingly.\n",
    "\n",
    "Todo:\n",
    "- define all the metrics to track.\n",
    "\n",
    "Due-diligence:\n",
    "- calculate the compute time before pressing run.\n",
    "\n",
    "Possible Products:\n",
    "- static charts.\n",
    "- create gif for every metric.\n",
    "- create real-time refreshing dashboard."
   ]
  },
  {
   "attachments": {},
   "cell_type": "markdown",
   "metadata": {},
   "source": [
    "# Pipeline\n",
    "\n",
    "- Check that set of nodes of graph has same nodes as list of nodes with habitats\n",
    "- Extract unique values of habitats\n",
    "- Build habitat buckets (1 key for each unique value, no problem if count 2 in one bucket and 2 in another) (build one also for food groups)\n",
    "- Compute probability distribution of habitat buckets\n",
    "- Build node buckets with same key as habitat buckets\n",
    "- Retrieve random key according to probability distribution assigned to habitat buckets"
   ]
  },
  {
   "attachments": {},
   "cell_type": "markdown",
   "metadata": {},
   "source": [
    "### LOG\n",
    "- All nodes with rank food_group (not species) should not be removed in the perturbations, because they are to broad categories to ever die out.\n",
    "\n",
    "- Maybe calculate metrics modulo %."
   ]
  },
  {
   "cell_type": "code",
   "execution_count": 10,
   "metadata": {},
   "outputs": [],
   "source": [
    "import networkx as nx\n",
    "import pandas as pd\n",
    "import numpy as np\n",
    "import random\n",
    "import matplotlib.pyplot as plt"
   ]
  },
  {
   "cell_type": "code",
   "execution_count": 11,
   "metadata": {},
   "outputs": [],
   "source": [
    "def load_graph():\n",
    "    csv_file = \"../food_webs/02_metaweb_unrestrained.csv\"\n",
    "    edge_data_df = pd.read_csv(csv_file, low_memory=False)\n",
    "    G = nx.from_pandas_edgelist(edge_data_df, source='Source_Name', target='Target_Name', edge_attr=True, create_using=nx.DiGraph())\n",
    "\n",
    "    return nx.reverse(G)\n",
    "\n",
    "G = load_graph()"
   ]
  },
  {
   "cell_type": "code",
   "execution_count": 12,
   "metadata": {},
   "outputs": [],
   "source": [
    "def node_removal(graph, node):\n",
    "\n",
    "    k_level_neighbors = set(graph.successors(node))\n",
    "    graph.remove_node(node)\n",
    "\n",
    "    # Explore neighbors level after level\n",
    "    while len(k_level_neighbors) > 0:\n",
    "\n",
    "        new_level_neighbors = set()\n",
    "        removed_neighbors = set()\n",
    "\n",
    "        # In the worst case the check must be done |k_level_neighbors| times\n",
    "        for i in range(len(k_level_neighbors)):\n",
    "            change_flag = False  # flag indicating if any nodes were removed in this loop\n",
    "\n",
    "            for neighbor in set(k_level_neighbors):  # TODO: check scenario of copying set and without\n",
    "                \n",
    "                # A node is removed if it does not have any inward edge, if it's isolated, or if it's an isolated self-loop\n",
    "                if graph.in_degree(neighbor) == 0 or graph.degree(neighbor) == 0 or (graph.in_degree(neighbor) == 1 and graph.has_edge(neighbor, neighbor)):\n",
    "                    new_level_neighbors.update(set(graph.successors(neighbor)))\n",
    "                    k_level_neighbors.remove(neighbor)\n",
    "                    removed_neighbors.add(neighbor)\n",
    "                    graph.remove_node(neighbor)\n",
    "\n",
    "                    change_flag = True\n",
    "            \n",
    "            if not change_flag:\n",
    "                break\n",
    "\n",
    "        k_level_neighbors = new_level_neighbors - removed_neighbors"
   ]
  },
  {
   "cell_type": "code",
   "execution_count": 13,
   "metadata": {},
   "outputs": [],
   "source": [
    "def habitat_bucket_probabilites(habitat_buckets, lost_habitat=['Grassland', '']):\n",
    "    \"\"\" \n",
    "    Food groups have a zero probability of being removed.\n",
    "    \"\"\"\n",
    "    proportions = []\n",
    "\n",
    "    foud_groups = habitat_buckets.popitem() \n",
    "\n",
    "    for hb in list(habitat_buckets.keys()):\n",
    "        proportions.append(len([s for s in hb if  s == lost_habitat]) / len(hb))  # TODO: grep string of habitats!!!!!!!!\n",
    "\n",
    "    n = len(proportions)\n",
    "    total = sum(proportions)\n",
    "    min_category_proportion = 0.05  # background extinction \n",
    "    smoothing = min_category_proportion * total / (1 - min_category_proportion * n)\n",
    "\n",
    "    smoothed_proportions = [p + smoothing for p in proportions]\n",
    "    total = sum(smoothed_proportions)\n",
    "    normalized_smoothed_proportions = [p / total for p in smoothed_proportions]\n",
    "\n",
    "    normalized_smoothed_proportions.append(0) \n",
    "    habitat_buckets['food_groups'] = foud_groups\n",
    "\n",
    "    return normalized_smoothed_proportions"
   ]
  },
  {
   "cell_type": "code",
   "execution_count": 3,
   "metadata": {},
   "outputs": [],
   "source": [
    "import pandas as pd\n",
    "csv_file = \"../food_webs/02_metaweb_unrestrained.csv\"\n",
    "edge_data_df = pd.read_csv(csv_file, low_memory=False)\n",
    "\n",
    "unique_habs = pd.unique(edge_data_df['Habitat'])"
   ]
  },
  {
   "cell_type": "code",
   "execution_count": 14,
   "metadata": {},
   "outputs": [],
   "source": [
    "def habitat_buckets(nodes_df):\n",
    "    habitats = pd.unique(nodes_df['habitat'])\n",
    "\n",
    "    buckets = {}  # Changed variable name here\n",
    "\n",
    "    for habitat in habitats:\n",
    "        buckets[habitat] = []\n",
    "\n",
    "    # mock result\n",
    "    buckets = {\n",
    "        ('g'): (), \n",
    "        ('g', 'other'): (),\n",
    "        ('g', 'other', 'other'): (),\n",
    "        ('other'): (),\n",
    "        ('food_groups'): ()  # pay special attention to this one \n",
    "    }\n",
    "\n",
    "    return buckets  # And here\n",
    "\n",
    "def bucket_probabilities(habitat_buckets):\n",
    "    normalized_smoothed_proportions = habitat_bucket_probabilites(habitat_buckets, 'g')\n",
    "    return normalized_smoothed_proportions\n",
    "\n",
    "def habitat_buckets_and_probabilities(nodes_df):\n",
    "    buckets = habitat_buckets(nodes_df)  # Changed function call here\n",
    "    habitat_probabilities = bucket_probabilities(buckets)  # And here\n",
    "\n",
    "    # add nodes to habitat buckets\n",
    "    for _, row in nodes_df.iterrows():\n",
    "        node = row['specie']\n",
    "        habitat = row['habitat']\n",
    "        buckets[habitat].append(node)  # And here\n",
    "\n",
    "    return buckets, habitat_probabilities  # And finally here"
   ]
  },
  {
   "cell_type": "code",
   "execution_count": 15,
   "metadata": {},
   "outputs": [],
   "source": [
    "def choose_node(buckets, habitat_probabilities):\n",
    "    # Choose a bucket\n",
    "    bucket_keys = list(buckets.keys())\n",
    "    chosen_bucket = np.random.choice(bucket_keys, p=habitat_probabilities)\n",
    "\n",
    "    # Choose a node from the bucket\n",
    "    nodes_in_bucket = buckets[chosen_bucket]\n",
    "    chosen_node = np.random.choice(nodes_in_bucket)\n",
    "\n",
    "    return chosen_node"
   ]
  },
  {
   "cell_type": "code",
   "execution_count": null,
   "metadata": {},
   "outputs": [],
   "source": [
    "csv = 'node_lists/all_species_and_feeding_groups'\n",
    "nodes_df = pd.DataFrame(data=csv, columns=['specie', 'habitat'])\n",
    "n = len(nodes_df)\n",
    "\n",
    "buckets, habitat_probabilities = habitat_buckets_and_probabilities(csv)\n",
    "\n",
    "\"\"\" \n",
    "\n",
    "for i in range(n):\n",
    "    node = choose_node(buckets, habitat_probabilities)\n",
    "    node_removal(node)\n",
    "\n",
    "    # compute metrics\n",
    "\n",
    "\"\"\""
   ]
  },
  {
   "attachments": {},
   "cell_type": "markdown",
   "metadata": {},
   "source": [
    "# Perturbations\n",
    "\n",
    "TODO: variance of results across permutations."
   ]
  },
  {
   "cell_type": "code",
   "execution_count": null,
   "metadata": {
    "ExecuteTime": {
     "end_time": "2023-06-12T13:12:37.208012Z",
     "start_time": "2023-06-12T13:11:05.831262Z"
    }
   },
   "outputs": [
    {
     "name": "stdout",
     "output_type": "stream",
     "text": [
      "CPU times: user 35.2 s, sys: 409 ms, total: 35.6 s\n",
      "Wall time: 35.6 s\n"
     ]
    }
   ],
   "source": [
    "%%time\n",
    "\n",
    "# Get list of all nodes in the graph\n",
    "all_nodes = list(G.nodes())\n",
    "\n",
    "# Get a list of 200 random nodes\n",
    "threatened_species = random.sample(all_nodes, 200)\n",
    "\n",
    "# Metrics List\n",
    "metrics = ['density', 'avg_degree'] # TODO: add metrics\n",
    "\n",
    "# Initialize dictionaries for averaging values j for each metric k, for final gif\n",
    "metrics_simulation_averages = {}\n",
    "for metric in metrics:\n",
    "    metrics_simulation_averages[metric] = {'averages': []}\n",
    "\n",
    "# When all have threatened species have been removed\n",
    "for metric in metrics:\n",
    "    for i in range(len(threatened_species)):\n",
    "        metrics_simulation_averages[metric]['averages'].append(0)\n",
    "\n",
    "# Number of permutations\n",
    "num_permutations = 1000\n",
    "\n",
    "for permutation in range(num_permutations):\n",
    "    # Initialize dictionaries for storing the values of the metrics before removal in simulation i\n",
    "    metrics_dict = {}\n",
    "    for metric in metrics:\n",
    "        metrics_dict[metric] = {'values': []}\n",
    "\n",
    "    # Copy of the original graphs for this permutation\n",
    "    graph = G.copy()\n",
    "    undirected_graph = undirected_G.copy()\n",
    "\n",
    "    # Randomly shuffle the list of threatened species\n",
    "    random.shuffle(threatened_species)\n",
    "\n",
    "    for species in threatened_species:\n",
    "        # Remove the species from the graph\n",
    "        graph.remove_node(species)\n",
    "        undirected_graph.remove_node(species)\n",
    "\n",
    "        # Compute metrics after removal # TODO: initialize state of graph before and append after code\n",
    "        density = nx.density(undirected_graph)\n",
    "        avg_degree = np.mean([degree for d, degree in nx.degree(undirected_graph)])\n",
    "        #avg_pagerank = np.mean([pagerank for pr, pagerank in nx.pagerank(graph)])\n",
    "        #num_SSC = len(nx.strongly_connected_components(graph))\n",
    "\n",
    "        metrics_dict['avg_degree']['values'].append(avg_degree)\n",
    "        metrics_dict['density']['values'].append(density)\n",
    "\n",
    "    # When all have threatened species have been removed\n",
    "    for metric in metrics:\n",
    "        for i in range(len(threatened_species)):\n",
    "            metrics_simulation_averages[metric]['averages'][i] = (metrics_simulation_averages[metric]['averages'][i]*permutation + metrics_dict[metric]['values'][i]) / (permutation+1)"
   ]
  },
  {
   "cell_type": "code",
   "execution_count": null,
   "metadata": {
    "ExecuteTime": {
     "end_time": "2023-06-19T10:49:47.452457Z",
     "start_time": "2023-06-19T10:49:47.083589Z"
    }
   },
   "outputs": [
    {
     "data": {
      "image/png": "[encoded data removed]",
      "text/plain": [
       "<Figure size 640x480 with 2 Axes>"
      ]
     },
     "metadata": {},
     "output_type": "display_data"
    }
   ],
   "source": [
    "# Create a subplot for each metric\n",
    "fig, axs = plt.subplots(len(metrics), 1)\n",
    "fig.suptitle('Graph condition after k-th removal')\n",
    "\n",
    "# Loop through each metric\n",
    "for idx, metric in enumerate(metrics):\n",
    "    averages = metrics_simulation_averages[metric]['averages']\n",
    "\n",
    "    # Plot the metric on its own subplot\n",
    "    axs[idx].plot(averages, label=metric)\n",
    "    axs[idx].set_xlabel('Species Removed')\n",
    "    axs[idx].set_ylabel(f'{metric}')\n",
    "    axs[idx].legend(loc='best')  # Show legend in the best location\n",
    "\n",
    "# Improve layout\n",
    "plt.tight_layout()\n",
    "plt.show()"
   ]
  }
 ],
 "metadata": {
  "kernelspec": {
   "display_name": "Python 3 (ipykernel)",
   "language": "python",
   "name": "python3"
  },
  "language_info": {
   "codemirror_mode": {
    "name": "ipython",
    "version": 3
   },
   "file_extension": ".py",
   "mimetype": "text/x-python",
   "name": "python",
   "nbconvert_exporter": "python",
   "pygments_lexer": "ipython3",
   "version": "3.10.11"
  }
 },
 "nbformat": 4,
 "nbformat_minor": 1
}
