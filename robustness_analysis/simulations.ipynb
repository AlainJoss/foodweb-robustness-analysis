{
 "cells": [
  {
   "attachments": {},
   "cell_type": "markdown",
   "metadata": {},
   "source": [
    "# Robustness Analysis\n",
    "\n",
    "In this notebook different simulations are run, and the results are extracted for presentation.\n",
    "\n",
    "The reason for a notebook is that it's easier to do trial and error and saving partial results."
   ]
  },
  {
   "attachments": {},
   "cell_type": "markdown",
   "metadata": {},
   "source": [
    "## Simulation 1\n",
    "\n",
    "#### Setup \n",
    "- strategy: random removal\n",
    "- number of perturbations: 100"
   ]
  },
  {
   "cell_type": "code",
   "execution_count": 13,
   "metadata": {},
   "outputs": [],
   "source": [
    "from DiGraph import DiGraph\n",
    "from Metaweb import Metaweb, Preparation\n",
    "from Simulation import Simulation, AttackStrategy\n",
    "import Constants\n",
    "\n",
    "import matplotlib.pyplot as plt"
   ]
  },
  {
   "cell_type": "code",
   "execution_count": 14,
   "metadata": {},
   "outputs": [],
   "source": [
    "mw = Metaweb(Constants.FOODWEB_01)\n",
    "mw.prepare(preparation=Preparation.USE_AS_IS)\n",
    "edge_df = mw.get_edge_df()\n",
    "graph = DiGraph(edge_df, source_col=Constants.SOURCE_COL, target_col=Constants.SOURCE_COL)"
   ]
  },
  {
   "cell_type": "code",
   "execution_count": null,
   "metadata": {},
   "outputs": [],
   "source": [
    "K = 100\n",
    "sim1 = Simulation(graph, k=K, attack_strategy=AttackStrategy.LOST_HABITATS)\n",
    "sim1.run()"
   ]
  },
  {
   "cell_type": "code",
   "execution_count": null,
   "metadata": {},
   "outputs": [],
   "source": [
    "results = sim1.get_results()\n",
    "\n",
    "plt.plot(results)"
   ]
  }
 ],
 "metadata": {
  "kernelspec": {
   "display_name": "foodweb_analysis-iRB1cZAi",
   "language": "python",
   "name": "python3"
  },
  "language_info": {
   "codemirror_mode": {
    "name": "ipython",
    "version": 3
   },
   "file_extension": ".py",
   "mimetype": "text/x-python",
   "name": "python",
   "nbconvert_exporter": "python",
   "pygments_lexer": "ipython3",
   "version": "3.9.13"
  },
  "orig_nbformat": 4
 },
 "nbformat": 4,
 "nbformat_minor": 2
}
