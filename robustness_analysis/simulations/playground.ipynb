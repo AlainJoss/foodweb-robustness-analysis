{
 "cells": [
  {
   "attachments": {},
   "cell_type": "markdown",
   "metadata": {},
   "source": [
    "# Robustness Analysis: EXPERIMENTATION NOTEBOOK\n",
    "\n",
    "In this notebook we experiment with the different types of simulations, with the purpose of:\n",
    "- debugging\n",
    "- time-tracking\n",
    "- feature exploration \n",
    "\n",
    "The actual simulations to run are the .py files contained in this folder.\n",
    "These are to run from the command line."
   ]
  },
  {
   "attachments": {},
   "cell_type": "markdown",
   "metadata": {},
   "source": [
    "## LOG\n",
    "\n",
    "#### Decide:\n",
    "- Food-groups: do we want to treat them as special entities?\n",
    "- Do we want to use multiple graphs (multiple preparations and instances) and eventually include in setup section?\n",
    "- compute the standard deviation from the mean with perturbations (what does it mean?)\n",
    "- write threatened species strategy\n",
    "- if we want to compute trophic levels we must provide a connected graph. But the graph will separate in any case, so we would need a separate function.\n",
    "\n",
    "#### PRIO1:\n",
    "\n",
    "#### PRIO2:\n",
    "- experiment with different metrics\n",
    "- test and comment all classes\n",
    "\n",
    "#### PRIO3:\n",
    "- draw pipeline of program\n",
    "- rewrite class diagram\n",
    "- write node removal algorithm report\n",
    "\n",
    "#### Done:\n",
    "- track nodes with size of graph. (save_nodes: bool = False)\n",
    "- create results folder and write the .csv files in it\n",
    "- when removing bucket point out probability issue\n",
    "- store size of graph in metric evolution\n",
    "- flatten results for averaging them\n",
    "- write procedure to flatten the metrics for secondary removal \n",
    "- compute median of in_degree and use it as default  \n",
    "- sequential strategy"
   ]
  },
  {
   "attachments": {},
   "cell_type": "markdown",
   "metadata": {},
   "source": [
    "## Setup"
   ]
  },
  {
   "cell_type": "code",
   "execution_count": null,
   "metadata": {},
   "outputs": [],
   "source": [
    "import matplotlib.pyplot as plt\n",
    "import numpy as np\n",
    "import pandas as pd\n",
    "import sys\n",
    "sys.path.append('../')"
   ]
  },
  {
   "cell_type": "code",
   "execution_count": null,
   "metadata": {},
   "outputs": [],
   "source": [
    "from graph import Graph\n",
    "from metaweb import Metaweb, MetawebProcessor\n",
    "import constants as constants\n",
    "from attack_strategy import Random, Sequential, ThreatenedHabitats, ThreatenedSpecies\n",
    "from metaweb import ProcessingStrategy\n",
    "from simulation import Simulation"
   ]
  },
  {
   "cell_type": "code",
   "execution_count": null,
   "metadata": {},
   "outputs": [],
   "source": [
    "def plot_results(results: dict, attack_strategy: str) -> None:\n",
    "\n",
    "    metric_names = list(results.keys())\n",
    "    colors = plt.cm.viridis(np.linspace(0, 1, len(metric_names)))\n",
    "\n",
    "    num_rows = len(metric_names)\n",
    "\n",
    "    fig = plt.figure(figsize=(12, 9 * num_rows), dpi=300) \n",
    "\n",
    "    for i, metric_name in enumerate(metric_names):\n",
    "        ax = fig.add_subplot(num_rows, 1, i+1)  \n",
    "        ax.plot(results[metric_name], color=colors[i], linestyle='-', linewidth=2)\n",
    "        \n",
    "        ax.set_ylabel(metric_name.replace(\"_\", \" \").title(), fontsize=14)\n",
    "        ax.set_title(f'{metric_name.replace(\"_\", \" \").title()} Robustness Trend', fontsize=16)\n",
    "        \n",
    "        ax.grid(True, which='both', linestyle='--', linewidth=0.5)\n",
    "        ax.spines['top'].set_visible(False)\n",
    "        ax.spines['right'].set_visible(False)\n",
    "        ax.spines['bottom'].set_linewidth(0.5)\n",
    "        ax.spines['left'].set_linewidth(0.5)\n",
    "\n",
    "    fig.suptitle(f'Attack Strategy: \\'{attack_strategy}\\'', fontsize=18, y=1.05)\n",
    "    plt.tight_layout()\n",
    "\n",
    "    plt.show()"
   ]
  },
  {
   "cell_type": "code",
   "execution_count": null,
   "metadata": {},
   "outputs": [],
   "source": [
    "# prepare edges \n",
    "metaweb_processor = MetawebProcessor(constants.ALL_SPECIES_AND_FOOD_GROUPS, constants.SPECIES_FOR_RANDOMIZED_LINKS)\n",
    "metaweb = Metaweb(constants.FOODWEB_02, usecols=[constants.SOURCE_COL, constants.TARGET_COL])\n",
    "metaweb.setup(ProcessingStrategy.USE_AS_IS, metaweb_processor)\n",
    "edge_df = metaweb.get_edges()"
   ]
  },
  {
   "attachments": {},
   "cell_type": "markdown",
   "metadata": {},
   "source": [
    "## Simulation 1: NULL MODEL"
   ]
  },
  {
   "cell_type": "code",
   "execution_count": null,
   "metadata": {},
   "outputs": [],
   "source": [
    "# instanciate graph and attach habitat information to nodes\n",
    "attack_strategy = Random()\n",
    "graph = Graph(attack_strategy, edge_df, source=constants.SOURCE_COL, target=constants.TARGET_COL)\n",
    "graph.setup_attack_strategy()"
   ]
  },
  {
   "cell_type": "code",
   "execution_count": null,
   "metadata": {},
   "outputs": [],
   "source": [
    "simulation = Simulation(graph, 2)\n",
    "simulation.run()"
   ]
  },
  {
   "cell_type": "code",
   "execution_count": null,
   "metadata": {},
   "outputs": [],
   "source": [
    "results = simulation.get_results()\n",
    "plot_results(results, \"Random\")"
   ]
  },
  {
   "attachments": {},
   "cell_type": "markdown",
   "metadata": {},
   "source": [
    "## Simulation 2: SEQUENTIAL"
   ]
  },
  {
   "cell_type": "code",
   "execution_count": null,
   "metadata": {},
   "outputs": [],
   "source": [
    "# instanciate graph and attach habitat information to nodes\n",
    "attack_strategy = Sequential(Sequential.SortBy.DEGREE)\n",
    "graph = Graph(attack_strategy, edge_df, source=constants.SOURCE_COL, target=constants.TARGET_COL)\n",
    "graph.setup_attack_strategy()"
   ]
  },
  {
   "cell_type": "code",
   "execution_count": null,
   "metadata": {},
   "outputs": [],
   "source": [
    "simulation = Simulation(graph, 1)  # k = 1 if the nodes are sorted sequentially\n",
    "simulation.run()"
   ]
  },
  {
   "cell_type": "code",
   "execution_count": null,
   "metadata": {},
   "outputs": [],
   "source": [
    "results = simulation.get_results()\n",
    "plot_results(results, \"Sequential\")"
   ]
  },
  {
   "attachments": {},
   "cell_type": "markdown",
   "metadata": {},
   "source": [
    "## Simulation 3: THREATENED HABITATS"
   ]
  },
  {
   "cell_type": "code",
   "execution_count": null,
   "metadata": {},
   "outputs": [],
   "source": [
    "# instanciate graph and attach habitat information to nodes\n",
    "threatened_habitats = [\"Grassland\", \"Forest\"]\n",
    "attack_strategy = ThreatenedHabitats(threatened_habitats)\n",
    "graph = Graph(attack_strategy, edge_df, source=constants.SOURCE_COL, target=constants.TARGET_COL)\n",
    "graph.setup_attack_strategy()"
   ]
  },
  {
   "cell_type": "code",
   "execution_count": null,
   "metadata": {},
   "outputs": [],
   "source": [
    "simulation = Simulation(graph, 10)\n",
    "simulation.run()"
   ]
  },
  {
   "cell_type": "code",
   "execution_count": null,
   "metadata": {},
   "outputs": [],
   "source": [
    "results = simulation.get_results()\n",
    "plot_results(results, \"Threatened Habitats\")"
   ]
  },
  {
   "attachments": {},
   "cell_type": "markdown",
   "metadata": {},
   "source": [
    "## Simulation 4: THREATENED SPECIES"
   ]
  },
  {
   "cell_type": "code",
   "execution_count": null,
   "metadata": {},
   "outputs": [],
   "source": [
    "# TODO: missing implementation of bucket creation"
   ]
  },
  {
   "cell_type": "code",
   "execution_count": null,
   "metadata": {},
   "outputs": [],
   "source": [
    "# instanciate graph and attach habitat information to nodes\n",
    "threatened_species = [\"\"]\n",
    "attack_strategy = ThreatenedSpecies(threatened_species)\n",
    "graph = Graph(attack_strategy, edge_df, source=constants.SOURCE_COL, target=constants.TARGET_COL)\n",
    "graph.setup_attack_strategy()"
   ]
  },
  {
   "cell_type": "code",
   "execution_count": null,
   "metadata": {},
   "outputs": [],
   "source": [
    "simulation = Simulation(graph, 10)\n",
    "simulation.run()"
   ]
  },
  {
   "cell_type": "code",
   "execution_count": null,
   "metadata": {},
   "outputs": [],
   "source": [
    "results = simulation.get_results()\n",
    "plot_results(results, \"Threatened Species\")"
   ]
  },
  {
   "cell_type": "code",
   "execution_count": null,
   "metadata": {},
   "outputs": [],
   "source": []
  },
  {
   "attachments": {},
   "cell_type": "markdown",
   "metadata": {},
   "source": [
    "# How to profile the code for "
   ]
  },
  {
   "cell_type": "code",
   "execution_count": 6,
   "metadata": {},
   "outputs": [
    {
     "name": "stdout",
     "output_type": "stream",
     "text": [
      "Id: 0 starting simulation ...\n",
      "Id: 1 starting simulation ...\n",
      "Id: 0 Size: 17000\n",
      "Id: 1 Size: 17000\n"
     ]
    },
    {
     "ename": "NetworkXError",
     "evalue": "The node Atheta basicornis is not in the digraph.",
     "output_type": "error",
     "traceback": [
      "\u001b[0;31m---------------------------------------------------------------------------\u001b[0m",
      "\u001b[0;31mRemoteTraceback\u001b[0m                           Traceback (most recent call last)",
      "\u001b[0;31mRemoteTraceback\u001b[0m: \n\"\"\"\nTraceback (most recent call last):\n  File \"/Users/Alain/.local/share/virtualenvs/foodweb_analysis-iRB1cZAi/lib/python3.9/site-packages/networkx/classes/digraph.py\", line 899, in successors\n    return iter(self._succ[n])\nKeyError: 'Atheta basicornis'\n\nThe above exception was the direct cause of the following exception:\n\nTraceback (most recent call last):\n  File \"/Users/Alain/opt/anaconda3/lib/python3.9/multiprocessing/pool.py\", line 125, in worker\n    result = (True, func(*args, **kwds))\n  File \"/Users/Alain/opt/anaconda3/lib/python3.9/multiprocessing/pool.py\", line 48, in mapstar\n    return list(map(*args))\n  File \"/Users/Alain/projects/foodweb-robustness-analysis/robustness_analysis/simulations/../simulation.py\", line 37, in _run_perturbation\n    perturbation.run()\n  File \"/Users/Alain/projects/foodweb-robustness-analysis/robustness_analysis/simulations/../perturbation.py\", line 36, in run\n    self.graph.remove_node_and_dependents(node)\n  File \"/Users/Alain/projects/foodweb-robustness-analysis/robustness_analysis/simulations/../graph.py\", line 73, in remove_node_and_dependents\n    k_level_neighbors = set(self.nx_graph.successors(node))\n  File \"/Users/Alain/.local/share/virtualenvs/foodweb_analysis-iRB1cZAi/lib/python3.9/site-packages/networkx/classes/digraph.py\", line 901, in successors\n    raise NetworkXError(f\"The node {n} is not in the digraph.\") from err\nnetworkx.exception.NetworkXError: The node Atheta basicornis is not in the digraph.\n\"\"\"",
      "\nThe above exception was the direct cause of the following exception:\n",
      "\u001b[0;31mNetworkXError\u001b[0m                             Traceback (most recent call last)",
      "Cell \u001b[0;32mIn[6], line 30\u001b[0m\n\u001b[1;32m     28\u001b[0m \u001b[39m# run simulation\u001b[39;00m\n\u001b[1;32m     29\u001b[0m simulation \u001b[39m=\u001b[39m Simulation(graph, \u001b[39m2\u001b[39m)\n\u001b[0;32m---> 30\u001b[0m simulation\u001b[39m.\u001b[39;49mrun()\n\u001b[1;32m     32\u001b[0m simulation_results \u001b[39m=\u001b[39m simulation\u001b[39m.\u001b[39mget_results()\n\u001b[1;32m     34\u001b[0m export(simulation_results)\n",
      "File \u001b[0;32m~/projects/foodweb-robustness-analysis/robustness_analysis/simulations/../simulation.py:29\u001b[0m, in \u001b[0;36mSimulation.run\u001b[0;34m(self)\u001b[0m\n\u001b[1;32m     27\u001b[0m \u001b[39m# Parallelize with multiprocessing and capture metric evolutions\u001b[39;00m\n\u001b[1;32m     28\u001b[0m \u001b[39mwith\u001b[39;00m Pool(processes\u001b[39m=\u001b[39mnum_processes) \u001b[39mas\u001b[39;00m pool:\n\u001b[0;32m---> 29\u001b[0m     \u001b[39mself\u001b[39m\u001b[39m.\u001b[39mmetric_evolution \u001b[39m=\u001b[39m pool\u001b[39m.\u001b[39;49mmap(\u001b[39mself\u001b[39;49m\u001b[39m.\u001b[39;49m_run_perturbation, \u001b[39mself\u001b[39;49m\u001b[39m.\u001b[39;49mperturbations)\n",
      "File \u001b[0;32m~/opt/anaconda3/lib/python3.9/multiprocessing/pool.py:364\u001b[0m, in \u001b[0;36mPool.map\u001b[0;34m(self, func, iterable, chunksize)\u001b[0m\n\u001b[1;32m    359\u001b[0m \u001b[39mdef\u001b[39;00m \u001b[39mmap\u001b[39m(\u001b[39mself\u001b[39m, func, iterable, chunksize\u001b[39m=\u001b[39m\u001b[39mNone\u001b[39;00m):\n\u001b[1;32m    360\u001b[0m \u001b[39m    \u001b[39m\u001b[39m'''\u001b[39;00m\n\u001b[1;32m    361\u001b[0m \u001b[39m    Apply `func` to each element in `iterable`, collecting the results\u001b[39;00m\n\u001b[1;32m    362\u001b[0m \u001b[39m    in a list that is returned.\u001b[39;00m\n\u001b[1;32m    363\u001b[0m \u001b[39m    '''\u001b[39;00m\n\u001b[0;32m--> 364\u001b[0m     \u001b[39mreturn\u001b[39;00m \u001b[39mself\u001b[39;49m\u001b[39m.\u001b[39;49m_map_async(func, iterable, mapstar, chunksize)\u001b[39m.\u001b[39;49mget()\n",
      "File \u001b[0;32m~/opt/anaconda3/lib/python3.9/multiprocessing/pool.py:771\u001b[0m, in \u001b[0;36mApplyResult.get\u001b[0;34m(self, timeout)\u001b[0m\n\u001b[1;32m    769\u001b[0m     \u001b[39mreturn\u001b[39;00m \u001b[39mself\u001b[39m\u001b[39m.\u001b[39m_value\n\u001b[1;32m    770\u001b[0m \u001b[39melse\u001b[39;00m:\n\u001b[0;32m--> 771\u001b[0m     \u001b[39mraise\u001b[39;00m \u001b[39mself\u001b[39m\u001b[39m.\u001b[39m_value\n",
      "\u001b[0;31mNetworkXError\u001b[0m: The node Atheta basicornis is not in the digraph."
     ]
    }
   ],
   "source": [
    "import cProfile\n",
    "import pstats\n",
    "import sys\n",
    "sys.path.append('../')\n",
    "\n",
    "from graph import Graph\n",
    "from metaweb import Metaweb, MetawebProcessor\n",
    "from attack_strategy import Sequential\n",
    "from metaweb import ProcessingStrategy\n",
    "from simulation import Simulation\n",
    "import constants\n",
    "from file_exporter import export\n",
    "\n",
    "\n",
    "if __name__ == \"__main__\":\n",
    "    with cProfile.Profile() as profile:\n",
    "        # setup edges \n",
    "        metaweb_processor = MetawebProcessor(constants.ALL_SPECIES_AND_FOOD_GROUPS, constants.SPECIES_FOR_RANDOMIZED_LINKS)\n",
    "        metaweb = Metaweb(constants.FOODWEB_02, usecols=[constants.SOURCE_COL, constants.TARGET_COL])\n",
    "        metaweb.setup(ProcessingStrategy.USE_AS_IS, metaweb_processor)\n",
    "        edge_df = metaweb.get_edges()\n",
    "\n",
    "        # setup graph\n",
    "        attack_strategy = Sequential(Sequential.SortBy.DEGREE)\n",
    "        graph = Graph(attack_strategy, edge_df, source=constants.SOURCE_COL, target=constants.TARGET_COL)\n",
    "        graph.setup_attack_strategy()\n",
    "\n",
    "        # run simulation\n",
    "        simulation = Simulation(graph, 2)\n",
    "        simulation.run()\n",
    "\n",
    "        simulation_results = simulation.get_results()\n",
    "\n",
    "        export(simulation_results)\n",
    "\n",
    "    profiling_results = pstats.Stats(profile)\n",
    "    profiling_results.sort_stats(pstats.SortKey.TIME)\n",
    "    profiling_results.dump_stats(\"profiling_results.pstats\")"
   ]
  },
  {
   "cell_type": "code",
   "execution_count": null,
   "metadata": {},
   "outputs": [],
   "source": []
  }
 ],
 "metadata": {
  "kernelspec": {
   "display_name": "foodweb_analysis-iRB1cZAi",
   "language": "python",
   "name": "python3"
  },
  "language_info": {
   "codemirror_mode": {
    "name": "ipython",
    "version": 3
   },
   "file_extension": ".py",
   "mimetype": "text/x-python",
   "name": "python",
   "nbconvert_exporter": "python",
   "pygments_lexer": "ipython3",
   "version": "3.9.13"
  },
  "orig_nbformat": 4
 },
 "nbformat": 4,
 "nbformat_minor": 2
}
