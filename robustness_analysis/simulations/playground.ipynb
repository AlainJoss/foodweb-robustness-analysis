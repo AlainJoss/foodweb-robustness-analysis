{
 "cells": [
  {
   "attachments": {},
   "cell_type": "markdown",
   "metadata": {},
   "source": [
    "# Robustness Analysis: EXPERIMENTATION NOTEBOOK\n",
    "\n",
    "In this notebook we experiment with the different types of simulations, with the purpose of:\n",
    "- debugging\n",
    "- time-tracking\n",
    "- feature exploration \n",
    "\n",
    "The actual simulations to run are the .py files contained in this folder.\n",
    "These are to run from the command line.\n",
    "\n",
    "#### ----------------------------------------------------------------------------------------------------------------------------------------"
   ]
  },
  {
   "attachments": {},
   "cell_type": "markdown",
   "metadata": {},
   "source": [
    "## LOG \n",
    "\n",
    "### Decide:\n",
    "- Food-groups: do we want to treat them as special entities?\n",
    "- Do we want to use multiple graphs (multiple preparations and instances) and eventually include in setup section?\n",
    "- compute the standard deviation from the mean with perturbations (what does it mean?)\n",
    "- write threatened species strategy\n",
    "- if we want to compute trophic levels we must provide a connected graph. But the graph will separate in any case, so we would need a separate function.\n",
    "\n",
    "### Still TODO:\n",
    "\n",
    "#### PRIO 1:\n",
    "- experiment with different metrics\n",
    "- test all classes\n",
    "\n",
    "#### PRIO 2:\n",
    "- draw pipeline of program\n",
    "- rewrite class diagram\n",
    "- write node removal algorithm report\n",
    "\n",
    "#### ----------------------------------------------------------------------------------------------------------------------------------------"
   ]
  },
  {
   "attachments": {},
   "cell_type": "markdown",
   "metadata": {},
   "source": [
    "## Setup"
   ]
  },
  {
   "cell_type": "code",
   "execution_count": null,
   "metadata": {},
   "outputs": [],
   "source": [
    "import matplotlib.pyplot as plt\n",
    "import numpy as np\n",
    "import pandas as pd\n",
    "import sys\n",
    "sys.path.append('../')"
   ]
  },
  {
   "cell_type": "code",
   "execution_count": null,
   "metadata": {},
   "outputs": [],
   "source": [
    "from graph import Graph\n",
    "from metaweb import Metaweb, MetawebProcessor\n",
    "import constants as constants\n",
    "from attack_strategy import Random, Sequential, ThreatenedHabitats, ThreatenedSpecies\n",
    "from metaweb import ProcessingStrategy\n",
    "from simulation import Simulation"
   ]
  },
  {
   "cell_type": "code",
   "execution_count": null,
   "metadata": {},
   "outputs": [],
   "source": [
    "# prepare edges \n",
    "metaweb_processor = MetawebProcessor(constants.ALL_SPECIES_AND_FOOD_GROUPS, constants.SPECIES_FOR_RANDOMIZED_LINKS)\n",
    "metaweb = Metaweb(constants.FOODWEB_02, usecols=[constants.SOURCE_COL, constants.TARGET_COL])\n",
    "metaweb.setup(ProcessingStrategy.USE_AS_IS, metaweb_processor)\n",
    "edge_df = metaweb.get_edges()"
   ]
  },
  {
   "attachments": {},
   "cell_type": "markdown",
   "metadata": {},
   "source": [
    "#### ----------------------------------------------------------------------------------------------------------------------------------------\n",
    "## EXPERIMENT HERE"
   ]
  },
  {
   "cell_type": "code",
   "execution_count": null,
   "metadata": {},
   "outputs": [],
   "source": []
  }
 ],
 "metadata": {
  "kernelspec": {
   "display_name": "foodweb_analysis-iRB1cZAi",
   "language": "python",
   "name": "python3"
  },
  "language_info": {
   "codemirror_mode": {
    "name": "ipython",
    "version": 3
   },
   "file_extension": ".py",
   "mimetype": "text/x-python",
   "name": "python",
   "nbconvert_exporter": "python",
   "pygments_lexer": "ipython3",
   "version": "3.9.13"
  },
  "orig_nbformat": 4
 },
 "nbformat": 4,
 "nbformat_minor": 2
}
